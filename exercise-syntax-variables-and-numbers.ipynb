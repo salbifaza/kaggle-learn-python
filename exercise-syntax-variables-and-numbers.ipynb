{
 "cells": [
  {
   "cell_type": "markdown",
   "id": "3b2c8ae8",
   "metadata": {
    "papermill": {
     "duration": 0.011395,
     "end_time": "2023-09-07T08:47:07.354899",
     "exception": false,
     "start_time": "2023-09-07T08:47:07.343504",
     "status": "completed"
    },
    "tags": []
   },
   "source": [
    "**This notebook is an exercise in the [Python](https://www.kaggle.com/learn/python) course.  You can reference the tutorial at [this link](https://www.kaggle.com/colinmorris/hello-python).**\n",
    "\n",
    "---\n"
   ]
  },
  {
   "cell_type": "markdown",
   "id": "fbb3607c",
   "metadata": {
    "papermill": {
     "duration": 0.010889,
     "end_time": "2023-09-07T08:47:07.376383",
     "exception": false,
     "start_time": "2023-09-07T08:47:07.365494",
     "status": "completed"
    },
    "tags": []
   },
   "source": [
    "Welcome to your first set of Python coding problems.  If this is your first time using Kaggle Notebooks, welcome! \n",
    "\n",
    "Notebooks are composed of blocks (called \"cells\") of text and code. Each of these is editable, though you'll mainly be editing the code cells to answer some questions.\n",
    "\n",
    "To get started, try running the code cell below (by pressing the ► button, or clicking on the cell and pressing ctrl+enter on your keyboard)."
   ]
  },
  {
   "cell_type": "code",
   "execution_count": 1,
   "id": "b4fa99fb",
   "metadata": {
    "execution": {
     "iopub.execute_input": "2023-09-07T08:47:07.401262Z",
     "iopub.status.busy": "2023-09-07T08:47:07.400016Z",
     "iopub.status.idle": "2023-09-07T08:47:07.415063Z",
     "shell.execute_reply": "2023-09-07T08:47:07.413579Z"
    },
    "papermill": {
     "duration": 0.030623,
     "end_time": "2023-09-07T08:47:07.417869",
     "exception": false,
     "start_time": "2023-09-07T08:47:07.387246",
     "status": "completed"
    },
    "tags": []
   },
   "outputs": [
    {
     "name": "stdout",
     "output_type": "stream",
     "text": [
      "You've successfully run some Python code\n",
      "Congratulations!\n"
     ]
    }
   ],
   "source": [
    "print(\"You've successfully run some Python code\")\n",
    "print(\"Congratulations!\")"
   ]
  },
  {
   "cell_type": "markdown",
   "id": "a3f61c60",
   "metadata": {
    "papermill": {
     "duration": 0.011004,
     "end_time": "2023-09-07T08:47:07.440343",
     "exception": false,
     "start_time": "2023-09-07T08:47:07.429339",
     "status": "completed"
    },
    "tags": []
   },
   "source": [
    "Try adding another line of code in the cell above and re-running it. \n",
    "\n",
    "Now let's get a little fancier:  Add a new code cell by clicking on an existing code cell, hitting the escape key, and then hitting the `a` or `b` key.  The `a` key will add a cell above the current cell, and `b` adds a cell below.\n",
    "\n",
    "Great! Now you know how to use Notebooks.\n",
    "\n",
    "Each hands-on exercise starts by setting up our feedback and code checking mechanism. Run the code cell below to do that. Then you'll be ready to move on to question 0."
   ]
  },
  {
   "cell_type": "code",
   "execution_count": 2,
   "id": "e0ade8fd",
   "metadata": {
    "_kg_hide-input": true,
    "_kg_hide-output": true,
    "execution": {
     "iopub.execute_input": "2023-09-07T08:47:07.463858Z",
     "iopub.status.busy": "2023-09-07T08:47:07.463382Z",
     "iopub.status.idle": "2023-09-07T08:47:07.946576Z",
     "shell.execute_reply": "2023-09-07T08:47:07.944987Z"
    },
    "papermill": {
     "duration": 0.498143,
     "end_time": "2023-09-07T08:47:07.949356",
     "exception": false,
     "start_time": "2023-09-07T08:47:07.451213",
     "status": "completed"
    },
    "tags": []
   },
   "outputs": [
    {
     "name": "stdout",
     "output_type": "stream",
     "text": [
      "Setup complete! You're ready to start question 0.\n"
     ]
    }
   ],
   "source": [
    "from learntools.core import binder; binder.bind(globals())\n",
    "from learntools.python.ex1 import *\n",
    "print(\"Setup complete! You're ready to start question 0.\")"
   ]
  },
  {
   "cell_type": "markdown",
   "id": "c571530f",
   "metadata": {
    "papermill": {
     "duration": 0.010466,
     "end_time": "2023-09-07T08:47:07.970621",
     "exception": false,
     "start_time": "2023-09-07T08:47:07.960155",
     "status": "completed"
    },
    "tags": []
   },
   "source": [
    "# 0.\n",
    "\n",
    "*This is a silly question intended as an introduction to the format we use for hands-on exercises throughout all Kaggle courses.*\n",
    "\n",
    "**What is your favorite color? **\n",
    "\n",
    "To complete this question, create a variable called `color` in the cell below with an appropriate value. The function call `q0.check()` (which we've already provided in the cell below) will check your answer."
   ]
  },
  {
   "cell_type": "code",
   "execution_count": 3,
   "id": "dad9e499",
   "metadata": {
    "execution": {
     "iopub.execute_input": "2023-09-07T08:47:07.994382Z",
     "iopub.status.busy": "2023-09-07T08:47:07.993879Z",
     "iopub.status.idle": "2023-09-07T08:47:08.004613Z",
     "shell.execute_reply": "2023-09-07T08:47:08.003400Z"
    },
    "papermill": {
     "duration": 0.025636,
     "end_time": "2023-09-07T08:47:08.006937",
     "exception": false,
     "start_time": "2023-09-07T08:47:07.981301",
     "status": "completed"
    },
    "tags": []
   },
   "outputs": [
    {
     "data": {
      "application/javascript": [
       "parent.postMessage({\"jupyterEvent\": \"custom.exercise_interaction\", \"data\": {\"outcomeType\": 1, \"valueTowardsCompletion\": 0.25, \"interactionType\": 1, \"questionType\": 2, \"questionId\": \"0_ExerciseFormatTutorial\", \"learnToolsVersion\": \"0.3.4\", \"failureMessage\": \"\", \"exceptionClass\": \"\", \"trace\": \"\"}}, \"*\")"
      ],
      "text/plain": [
       "<IPython.core.display.Javascript object>"
      ]
     },
     "metadata": {},
     "output_type": "display_data"
    },
    {
     "data": {
      "text/markdown": [
       "<span style=\"color:#33cc33\">Correct:</span> What?! You got it right without needing a hint or anything? Drats. Well hey, you should still continue to the next step to get some practice asking for a hint and checking solutions. (Even though you obviously don't need any help here.)"
      ],
      "text/plain": [
       "Correct: What?! You got it right without needing a hint or anything? Drats. Well hey, you should still continue to the next step to get some practice asking for a hint and checking solutions. (Even though you obviously don't need any help here.)"
      ]
     },
     "metadata": {},
     "output_type": "display_data"
    }
   ],
   "source": [
    "# create a variable called color with an appropriate value on the line below\n",
    "# (Remember, strings in Python must be enclosed in 'single' or \"double\" quotes)\n",
    "____\n",
    "color = 'Blue'\n",
    "\n",
    "# Check your answer\n",
    "q0.check()"
   ]
  },
  {
   "cell_type": "markdown",
   "id": "5ef4d778",
   "metadata": {
    "papermill": {
     "duration": 0.010628,
     "end_time": "2023-09-07T08:47:08.029124",
     "exception": false,
     "start_time": "2023-09-07T08:47:08.018496",
     "status": "completed"
    },
    "tags": []
   },
   "source": [
    "Didn't get the right answer? How do you not even know your own favorite color?!\n",
    "\n",
    "Delete the `#` in the line below to make one of the lines run. You can choose between getting a hint or the full answer by choosing which line to remove the `#` from. \n",
    "\n",
    "Removing the `#` is called uncommenting, because it changes that line from a \"comment\" which Python doesn't run to code, which Python does run."
   ]
  },
  {
   "cell_type": "code",
   "execution_count": 4,
   "id": "b467263d",
   "metadata": {
    "execution": {
     "iopub.execute_input": "2023-09-07T08:47:08.053941Z",
     "iopub.status.busy": "2023-09-07T08:47:08.052805Z",
     "iopub.status.idle": "2023-09-07T08:47:08.058541Z",
     "shell.execute_reply": "2023-09-07T08:47:08.057448Z"
    },
    "papermill": {
     "duration": 0.020838,
     "end_time": "2023-09-07T08:47:08.061062",
     "exception": false,
     "start_time": "2023-09-07T08:47:08.040224",
     "status": "completed"
    },
    "tags": []
   },
   "outputs": [],
   "source": [
    "#q0.hint()\n",
    "#q0.solution()"
   ]
  },
  {
   "cell_type": "markdown",
   "id": "96777eeb",
   "metadata": {
    "papermill": {
     "duration": 0.01091,
     "end_time": "2023-09-07T08:47:08.083154",
     "exception": false,
     "start_time": "2023-09-07T08:47:08.072244",
     "status": "completed"
    },
    "tags": []
   },
   "source": [
    "The upcoming questions work the same way. The only thing that will change are the question numbers. For the next question, you'll call `q1.check()`, `q1.hint()`, `q1.solution()`, for question 2, you'll call `q2.check()`, and so on."
   ]
  },
  {
   "cell_type": "markdown",
   "id": "e15047f3",
   "metadata": {
    "papermill": {
     "duration": 0.010884,
     "end_time": "2023-09-07T08:47:08.105153",
     "exception": false,
     "start_time": "2023-09-07T08:47:08.094269",
     "status": "completed"
    },
    "tags": []
   },
   "source": [
    "<hr/>\n",
    "\n",
    "# 1.\n",
    "\n",
    "Complete the code below. In case it's helpful, here is the table of available arithmetic operations:\n",
    "\n",
    "\n",
    "\n",
    "| Operator     | Name           | Description                                            |\n",
    "|--------------|----------------|--------------------------------------------------------|\n",
    "| ``a + b``    | Addition       | Sum of ``a`` and ``b``                                 |\n",
    "| ``a - b``    | Subtraction    | Difference of ``a`` and ``b``                          |\n",
    "| ``a * b``    | Multiplication | Product of ``a`` and ``b``                             |\n",
    "| ``a / b``    | True division  | Quotient of ``a`` and ``b``                            |\n",
    "| ``a // b``   | Floor division | Quotient of ``a`` and ``b``, removing fractional parts |\n",
    "| ``a % b``    | Modulus        | Integer remainder after division of ``a`` by ``b``     |\n",
    "| ``a ** b``   | Exponentiation | ``a`` raised to the power of ``b``                     |\n",
    "| ``-a``       | Negation       | The negative of ``a``                                  |\n",
    "\n",
    "<span style=\"display:none\"></span>\n"
   ]
  },
  {
   "cell_type": "code",
   "execution_count": 5,
   "id": "cbe6153b",
   "metadata": {
    "execution": {
     "iopub.execute_input": "2023-09-07T08:47:08.129874Z",
     "iopub.status.busy": "2023-09-07T08:47:08.129084Z",
     "iopub.status.idle": "2023-09-07T08:47:08.140715Z",
     "shell.execute_reply": "2023-09-07T08:47:08.139385Z"
    },
    "papermill": {
     "duration": 0.026777,
     "end_time": "2023-09-07T08:47:08.143289",
     "exception": false,
     "start_time": "2023-09-07T08:47:08.116512",
     "status": "completed"
    },
    "tags": []
   },
   "outputs": [
    {
     "data": {
      "application/javascript": [
       "parent.postMessage({\"jupyterEvent\": \"custom.exercise_interaction\", \"data\": {\"outcomeType\": 1, \"valueTowardsCompletion\": 0.25, \"interactionType\": 1, \"questionType\": 1, \"questionId\": \"1_CircleArea\", \"learnToolsVersion\": \"0.3.4\", \"failureMessage\": \"\", \"exceptionClass\": \"\", \"trace\": \"\"}}, \"*\")"
      ],
      "text/plain": [
       "<IPython.core.display.Javascript object>"
      ]
     },
     "metadata": {},
     "output_type": "display_data"
    },
    {
     "data": {
      "text/markdown": [
       "<span style=\"color:#33cc33\">Correct</span>"
      ],
      "text/plain": [
       "Correct"
      ]
     },
     "metadata": {},
     "output_type": "display_data"
    }
   ],
   "source": [
    "pi = 3.14159 # approximate\n",
    "diameter = 3\n",
    "\n",
    "# Create a variable called 'radius' equal to half the diameter\n",
    "____\n",
    "radius = 0.5 * diameter\n",
    "# Create a variable called 'area', using the formula for the area of a circle: pi times the radius squared\n",
    "____\n",
    "area = pi * radius**2\n",
    "\n",
    "# Check your answer\n",
    "q1.check()"
   ]
  },
  {
   "cell_type": "code",
   "execution_count": 6,
   "id": "d308a448",
   "metadata": {
    "execution": {
     "iopub.execute_input": "2023-09-07T08:47:08.168673Z",
     "iopub.status.busy": "2023-09-07T08:47:08.168288Z",
     "iopub.status.idle": "2023-09-07T08:47:08.173180Z",
     "shell.execute_reply": "2023-09-07T08:47:08.171880Z"
    },
    "papermill": {
     "duration": 0.020931,
     "end_time": "2023-09-07T08:47:08.175737",
     "exception": false,
     "start_time": "2023-09-07T08:47:08.154806",
     "status": "completed"
    },
    "tags": []
   },
   "outputs": [],
   "source": [
    "# Uncomment and run the lines below if you need help.\n",
    "#q1.hint()\n",
    "#q1.solution()"
   ]
  },
  {
   "cell_type": "markdown",
   "id": "596c114f",
   "metadata": {
    "papermill": {
     "duration": 0.011294,
     "end_time": "2023-09-07T08:47:08.198655",
     "exception": false,
     "start_time": "2023-09-07T08:47:08.187361",
     "status": "completed"
    },
    "tags": []
   },
   "source": [
    "<hr/>\n",
    "\n",
    "# 2.\n",
    "\n",
    "Add code to the following cell to swap variables `a` and `b` (so that `a` refers to the object previously referred to by `b` and vice versa)."
   ]
  },
  {
   "cell_type": "code",
   "execution_count": 7,
   "id": "863a6f6a",
   "metadata": {
    "execution": {
     "iopub.execute_input": "2023-09-07T08:47:08.223831Z",
     "iopub.status.busy": "2023-09-07T08:47:08.223408Z",
     "iopub.status.idle": "2023-09-07T08:47:08.235371Z",
     "shell.execute_reply": "2023-09-07T08:47:08.233974Z"
    },
    "papermill": {
     "duration": 0.027546,
     "end_time": "2023-09-07T08:47:08.237939",
     "exception": false,
     "start_time": "2023-09-07T08:47:08.210393",
     "status": "completed"
    },
    "tags": []
   },
   "outputs": [
    {
     "data": {
      "application/javascript": [
       "parent.postMessage({\"jupyterEvent\": \"custom.exercise_interaction\", \"data\": {\"outcomeType\": 1, \"valueTowardsCompletion\": 0.25, \"interactionType\": 1, \"questionType\": 2, \"questionId\": \"2_VariableSwap\", \"learnToolsVersion\": \"0.3.4\", \"failureMessage\": \"\", \"exceptionClass\": \"\", \"trace\": \"\"}}, \"*\")"
      ],
      "text/plain": [
       "<IPython.core.display.Javascript object>"
      ]
     },
     "metadata": {},
     "output_type": "display_data"
    },
    {
     "data": {
      "text/markdown": [
       "<span style=\"color:#33cc33\">Correct:</span> \n",
       "\n",
       "The most straightforward solution is to use a third variable to temporarily store one of the old values. e.g.:\n",
       "\n",
       "    tmp = a\n",
       "    a = b\n",
       "    b = tmp\n",
       "\n",
       "If you've read lots of Python code, you might have seen the following trick to swap two variables in one line:\n",
       "\n",
       "    a, b = b, a\n",
       "\n",
       "We'll demystify this bit of Python magic later when we talk about *tuples*."
      ],
      "text/plain": [
       "Correct: \n",
       "\n",
       "The most straightforward solution is to use a third variable to temporarily store one of the old values. e.g.:\n",
       "\n",
       "    tmp = a\n",
       "    a = b\n",
       "    b = tmp\n",
       "\n",
       "If you've read lots of Python code, you might have seen the following trick to swap two variables in one line:\n",
       "\n",
       "    a, b = b, a\n",
       "\n",
       "We'll demystify this bit of Python magic later when we talk about *tuples*."
      ]
     },
     "metadata": {},
     "output_type": "display_data"
    }
   ],
   "source": [
    "########### Setup code - don't touch this part ######################\n",
    "# If you're curious, these are examples of lists. We'll talk about \n",
    "# them in depth a few lessons from now. For now, just know that they're\n",
    "# yet another type of Python object, like int or float.\n",
    "a = [1, 2, 3]\n",
    "b = [3, 2, 1]\n",
    "q2.store_original_ids()\n",
    "######################################################################\n",
    "\n",
    "tmp = a\n",
    "a = b\n",
    "b = tmp\n",
    "# Your code goes here. Swap the values to which a and b refer.\n",
    "# If you get stuck, you can always uncomment one or both of the lines in\n",
    "# the next cell for a hint, or to peek at the solution.\n",
    "\n",
    "######################################################################\n",
    "\n",
    "# Check your answer\n",
    "q2.check()"
   ]
  },
  {
   "cell_type": "code",
   "execution_count": 8,
   "id": "85727632",
   "metadata": {
    "execution": {
     "iopub.execute_input": "2023-09-07T08:47:08.264366Z",
     "iopub.status.busy": "2023-09-07T08:47:08.263821Z",
     "iopub.status.idle": "2023-09-07T08:47:08.269374Z",
     "shell.execute_reply": "2023-09-07T08:47:08.268265Z"
    },
    "papermill": {
     "duration": 0.021642,
     "end_time": "2023-09-07T08:47:08.271881",
     "exception": false,
     "start_time": "2023-09-07T08:47:08.250239",
     "status": "completed"
    },
    "tags": []
   },
   "outputs": [],
   "source": [
    "# q2.hint()"
   ]
  },
  {
   "cell_type": "code",
   "execution_count": 9,
   "id": "6aade16b",
   "metadata": {
    "execution": {
     "iopub.execute_input": "2023-09-07T08:47:08.297731Z",
     "iopub.status.busy": "2023-09-07T08:47:08.297296Z",
     "iopub.status.idle": "2023-09-07T08:47:08.302589Z",
     "shell.execute_reply": "2023-09-07T08:47:08.301545Z"
    },
    "papermill": {
     "duration": 0.021117,
     "end_time": "2023-09-07T08:47:08.305119",
     "exception": false,
     "start_time": "2023-09-07T08:47:08.284002",
     "status": "completed"
    },
    "tags": []
   },
   "outputs": [],
   "source": [
    "# q2.solution()"
   ]
  },
  {
   "cell_type": "markdown",
   "id": "0631674b",
   "metadata": {
    "papermill": {
     "duration": 0.012177,
     "end_time": "2023-09-07T08:47:08.330011",
     "exception": false,
     "start_time": "2023-09-07T08:47:08.317834",
     "status": "completed"
    },
    "tags": []
   },
   "source": [
    "<hr/>\n",
    "\n",
    "# 3a.\n",
    "\n",
    "Add parentheses to the following expression so that it evaluates to 1."
   ]
  },
  {
   "cell_type": "code",
   "execution_count": 10,
   "id": "3f8c797c",
   "metadata": {
    "execution": {
     "iopub.execute_input": "2023-09-07T08:47:08.356517Z",
     "iopub.status.busy": "2023-09-07T08:47:08.356119Z",
     "iopub.status.idle": "2023-09-07T08:47:08.363879Z",
     "shell.execute_reply": "2023-09-07T08:47:08.362615Z"
    },
    "papermill": {
     "duration": 0.023865,
     "end_time": "2023-09-07T08:47:08.366370",
     "exception": false,
     "start_time": "2023-09-07T08:47:08.342505",
     "status": "completed"
    },
    "tags": []
   },
   "outputs": [
    {
     "data": {
      "text/plain": [
       "1"
      ]
     },
     "execution_count": 10,
     "metadata": {},
     "output_type": "execute_result"
    }
   ],
   "source": [
    "(5 - 3) // 2"
   ]
  },
  {
   "cell_type": "code",
   "execution_count": 11,
   "id": "9b91a977",
   "metadata": {
    "execution": {
     "iopub.execute_input": "2023-09-07T08:47:08.392626Z",
     "iopub.status.busy": "2023-09-07T08:47:08.392219Z",
     "iopub.status.idle": "2023-09-07T08:47:08.397342Z",
     "shell.execute_reply": "2023-09-07T08:47:08.396194Z"
    },
    "papermill": {
     "duration": 0.020986,
     "end_time": "2023-09-07T08:47:08.399643",
     "exception": false,
     "start_time": "2023-09-07T08:47:08.378657",
     "status": "completed"
    },
    "tags": []
   },
   "outputs": [],
   "source": [
    "#q3.a.hint()"
   ]
  },
  {
   "cell_type": "code",
   "execution_count": 12,
   "id": "20fe5845",
   "metadata": {
    "execution": {
     "iopub.execute_input": "2023-09-07T08:47:08.426358Z",
     "iopub.status.busy": "2023-09-07T08:47:08.425963Z",
     "iopub.status.idle": "2023-09-07T08:47:08.436020Z",
     "shell.execute_reply": "2023-09-07T08:47:08.434794Z"
    },
    "papermill": {
     "duration": 0.026936,
     "end_time": "2023-09-07T08:47:08.438892",
     "exception": false,
     "start_time": "2023-09-07T08:47:08.411956",
     "status": "completed"
    },
    "tags": []
   },
   "outputs": [
    {
     "data": {
      "application/javascript": [
       "parent.postMessage({\"jupyterEvent\": \"custom.exercise_interaction\", \"data\": {\"interactionType\": 3, \"questionType\": 4, \"questionId\": \"3.1_ArithmeticParensEasy\", \"learnToolsVersion\": \"0.3.4\", \"valueTowardsCompletion\": 0.0, \"failureMessage\": \"\", \"exceptionClass\": \"\", \"trace\": \"\", \"outcomeType\": 4}}, \"*\")"
      ],
      "text/plain": [
       "<IPython.core.display.Javascript object>"
      ]
     },
     "metadata": {},
     "output_type": "display_data"
    },
    {
     "data": {
      "text/markdown": [
       "<span style=\"color:#33cc99\">Solution:</span> \n",
       "```python\n",
       "(5 - 3) // 2\n",
       "```"
      ],
      "text/plain": [
       "Solution: \n",
       "```python\n",
       "(5 - 3) // 2\n",
       "```"
      ]
     },
     "metadata": {},
     "output_type": "display_data"
    }
   ],
   "source": [
    "# Check your answer (Run this code cell to receive credit!)\n",
    "q3.a.solution()"
   ]
  },
  {
   "cell_type": "markdown",
   "id": "36381805",
   "metadata": {
    "papermill": {
     "duration": 0.012824,
     "end_time": "2023-09-07T08:47:08.466637",
     "exception": false,
     "start_time": "2023-09-07T08:47:08.453813",
     "status": "completed"
    },
    "tags": []
   },
   "source": [
    "# 3b.  <span title=\"A bit spicy\" style=\"color: darkgreen \">🌶️</span>\n",
    "\n",
    "<small>Questions, like this one, marked a spicy pepper are a bit harder.</small>\n",
    "\n",
    "Add parentheses to the following expression so that it evaluates to 0."
   ]
  },
  {
   "cell_type": "code",
   "execution_count": 13,
   "id": "b7405a54",
   "metadata": {
    "execution": {
     "iopub.execute_input": "2023-09-07T08:47:08.493852Z",
     "iopub.status.busy": "2023-09-07T08:47:08.493454Z",
     "iopub.status.idle": "2023-09-07T08:47:08.501515Z",
     "shell.execute_reply": "2023-09-07T08:47:08.500300Z"
    },
    "papermill": {
     "duration": 0.024559,
     "end_time": "2023-09-07T08:47:08.503892",
     "exception": false,
     "start_time": "2023-09-07T08:47:08.479333",
     "status": "completed"
    },
    "tags": []
   },
   "outputs": [
    {
     "data": {
      "text/plain": [
       "0"
      ]
     },
     "execution_count": 13,
     "metadata": {},
     "output_type": "execute_result"
    }
   ],
   "source": [
    "(8 - (3 * 2)) - (1 + 1)"
   ]
  },
  {
   "cell_type": "code",
   "execution_count": 14,
   "id": "e04883dc",
   "metadata": {
    "execution": {
     "iopub.execute_input": "2023-09-07T08:47:08.531260Z",
     "iopub.status.busy": "2023-09-07T08:47:08.530843Z",
     "iopub.status.idle": "2023-09-07T08:47:08.535957Z",
     "shell.execute_reply": "2023-09-07T08:47:08.534649Z"
    },
    "papermill": {
     "duration": 0.021618,
     "end_time": "2023-09-07T08:47:08.538519",
     "exception": false,
     "start_time": "2023-09-07T08:47:08.516901",
     "status": "completed"
    },
    "tags": []
   },
   "outputs": [],
   "source": [
    "#q3.b.hint()"
   ]
  },
  {
   "cell_type": "code",
   "execution_count": 15,
   "id": "f7a9c244",
   "metadata": {
    "execution": {
     "iopub.execute_input": "2023-09-07T08:47:08.566675Z",
     "iopub.status.busy": "2023-09-07T08:47:08.566283Z",
     "iopub.status.idle": "2023-09-07T08:47:08.576993Z",
     "shell.execute_reply": "2023-09-07T08:47:08.575180Z"
    },
    "papermill": {
     "duration": 0.028099,
     "end_time": "2023-09-07T08:47:08.579846",
     "exception": false,
     "start_time": "2023-09-07T08:47:08.551747",
     "status": "completed"
    },
    "tags": []
   },
   "outputs": [
    {
     "data": {
      "application/javascript": [
       "parent.postMessage({\"jupyterEvent\": \"custom.exercise_interaction\", \"data\": {\"interactionType\": 3, \"questionType\": 4, \"questionId\": \"3.2_ArithmeticParensHard\", \"learnToolsVersion\": \"0.3.4\", \"valueTowardsCompletion\": 0.0, \"failureMessage\": \"\", \"exceptionClass\": \"\", \"trace\": \"\", \"outcomeType\": 4}}, \"*\")"
      ],
      "text/plain": [
       "<IPython.core.display.Javascript object>"
      ]
     },
     "metadata": {},
     "output_type": "display_data"
    },
    {
     "data": {
      "text/markdown": [
       "<span style=\"color:#33cc99\">Solution:</span> `(8 - 3) * (2 - (1 + 1))` is one solution. There may be others."
      ],
      "text/plain": [
       "Solution: `(8 - 3) * (2 - (1 + 1))` is one solution. There may be others."
      ]
     },
     "metadata": {},
     "output_type": "display_data"
    }
   ],
   "source": [
    "# Check your answer (Run this code cell to receive credit!)\n",
    "q3.b.solution()"
   ]
  },
  {
   "cell_type": "markdown",
   "id": "b1106715",
   "metadata": {
    "papermill": {
     "duration": 0.012957,
     "end_time": "2023-09-07T08:47:08.606969",
     "exception": false,
     "start_time": "2023-09-07T08:47:08.594012",
     "status": "completed"
    },
    "tags": []
   },
   "source": [
    "<hr/>\n",
    "\n",
    "# 4. \n",
    "Alice, Bob and Carol have agreed to pool their Halloween candy and split it evenly among themselves.\n",
    "For the sake of their friendship, any candies left over will be smashed. For example, if they collectively\n",
    "bring home 91 candies, they'll take 30 each and smash 1.\n",
    "\n",
    "Write an arithmetic expression below to calculate how many candies they must smash for a given haul."
   ]
  },
  {
   "cell_type": "code",
   "execution_count": 16,
   "id": "56182480",
   "metadata": {
    "execution": {
     "iopub.execute_input": "2023-09-07T08:47:08.636843Z",
     "iopub.status.busy": "2023-09-07T08:47:08.636419Z",
     "iopub.status.idle": "2023-09-07T08:47:08.647281Z",
     "shell.execute_reply": "2023-09-07T08:47:08.646006Z"
    },
    "papermill": {
     "duration": 0.02864,
     "end_time": "2023-09-07T08:47:08.649952",
     "exception": false,
     "start_time": "2023-09-07T08:47:08.621312",
     "status": "completed"
    },
    "tags": []
   },
   "outputs": [
    {
     "data": {
      "application/javascript": [
       "parent.postMessage({\"jupyterEvent\": \"custom.exercise_interaction\", \"data\": {\"outcomeType\": 1, \"valueTowardsCompletion\": 0.25, \"interactionType\": 1, \"questionType\": 1, \"questionId\": \"4_CandySplitting\", \"learnToolsVersion\": \"0.3.4\", \"failureMessage\": \"\", \"exceptionClass\": \"\", \"trace\": \"\"}}, \"*\")"
      ],
      "text/plain": [
       "<IPython.core.display.Javascript object>"
      ]
     },
     "metadata": {},
     "output_type": "display_data"
    },
    {
     "data": {
      "text/markdown": [
       "<span style=\"color:#33cc33\">Correct</span>"
      ],
      "text/plain": [
       "Correct"
      ]
     },
     "metadata": {},
     "output_type": "display_data"
    }
   ],
   "source": [
    "# Variables representing the number of candies collected by alice, bob, and carol\n",
    "alice_candies = 121\n",
    "bob_candies = 77\n",
    "carol_candies = 109\n",
    "\n",
    "# Your code goes here! Replace the right-hand side of this assignment with an expression\n",
    "# involving alice_candies, bob_candies, and carol_candies\n",
    "to_smash = (alice_candies + bob_candies + carol_candies)%3\n",
    "\n",
    "# Check your answer\n",
    "q4.check()"
   ]
  },
  {
   "cell_type": "code",
   "execution_count": 17,
   "id": "bdc005a1",
   "metadata": {
    "execution": {
     "iopub.execute_input": "2023-09-07T08:47:08.680060Z",
     "iopub.status.busy": "2023-09-07T08:47:08.679603Z",
     "iopub.status.idle": "2023-09-07T08:47:08.685172Z",
     "shell.execute_reply": "2023-09-07T08:47:08.683927Z"
    },
    "papermill": {
     "duration": 0.024036,
     "end_time": "2023-09-07T08:47:08.688062",
     "exception": false,
     "start_time": "2023-09-07T08:47:08.664026",
     "status": "completed"
    },
    "tags": []
   },
   "outputs": [],
   "source": [
    "#q4.hint()\n",
    "#q4.solution()"
   ]
  },
  {
   "cell_type": "markdown",
   "id": "09bdd737",
   "metadata": {
    "papermill": {
     "duration": 0.014753,
     "end_time": "2023-09-07T08:47:08.717221",
     "exception": false,
     "start_time": "2023-09-07T08:47:08.702468",
     "status": "completed"
    },
    "tags": []
   },
   "source": [
    "# Keep Going\n",
    "\n",
    "Next up, you'll **[learn to write new functions and understand functions others write](https://www.kaggle.com/colinmorris/functions-and-getting-help)**. This will make you at least 10 times more productive as a Python programmer. "
   ]
  },
  {
   "cell_type": "markdown",
   "id": "133c87b5",
   "metadata": {
    "papermill": {
     "duration": 0.013328,
     "end_time": "2023-09-07T08:47:08.744734",
     "exception": false,
     "start_time": "2023-09-07T08:47:08.731406",
     "status": "completed"
    },
    "tags": []
   },
   "source": [
    "---\n",
    "\n",
    "\n",
    "\n",
    "\n",
    "*Have questions or comments? Visit the [course discussion forum](https://www.kaggle.com/learn/python/discussion) to chat with other learners.*"
   ]
  }
 ],
 "kernelspec": {
  "display_name": "Python 3",
  "language": "python",
  "name": "python3"
 },
 "language_info": {
  "codemirror_mode": {
   "name": "ipython",
   "version": 3
  },
  "file_extension": ".py",
  "mimetype": "text/x-python",
  "name": "python",
  "nbconvert_exporter": "python",
  "pygments_lexer": "ipython3",
  "version": "3.6.4"
 },
 "metadata": {
  "kernelspec": {
   "display_name": "Python 3",
   "language": "python",
   "name": "python3"
  },
  "language_info": {
   "codemirror_mode": {
    "name": "ipython",
    "version": 3
   },
   "file_extension": ".py",
   "mimetype": "text/x-python",
   "name": "python",
   "nbconvert_exporter": "python",
   "pygments_lexer": "ipython3",
   "version": "3.10.12"
  },
  "learntools_metadata": {
   "lesson_index": 0,
   "type": "exercise"
  },
  "papermill": {
   "default_parameters": {},
   "duration": 5.881409,
   "end_time": "2023-09-07T08:47:09.280399",
   "environment_variables": {},
   "exception": null,
   "input_path": "__notebook__.ipynb",
   "output_path": "__notebook__.ipynb",
   "parameters": {},
   "start_time": "2023-09-07T08:47:03.398990",
   "version": "2.4.0"
  }
 },
 "nbformat": 4,
 "nbformat_minor": 5
}
