{
 "cells": [
  {
   "cell_type": "markdown",
   "id": "fc81c151",
   "metadata": {
    "papermill": {
     "duration": 0.007164,
     "end_time": "2023-09-07T08:59:16.263861",
     "exception": false,
     "start_time": "2023-09-07T08:59:16.256697",
     "status": "completed"
    },
    "tags": []
   },
   "source": [
    "**This notebook is an exercise in the [Python](https://www.kaggle.com/learn/python) course.  You can reference the tutorial at [this link](https://www.kaggle.com/colinmorris/functions-and-getting-help).**\n",
    "\n",
    "---\n"
   ]
  },
  {
   "cell_type": "markdown",
   "id": "fb006e9e",
   "metadata": {
    "papermill": {
     "duration": 0.006707,
     "end_time": "2023-09-07T08:59:16.276659",
     "exception": false,
     "start_time": "2023-09-07T08:59:16.269952",
     "status": "completed"
    },
    "tags": []
   },
   "source": [
    "Functions are powerful. Try writing some yourself.\n",
    "\n",
    "As before, don't forget to run the setup code below before jumping into question 1."
   ]
  },
  {
   "cell_type": "code",
   "execution_count": 1,
   "id": "25e78745",
   "metadata": {
    "_kg_hide-input": true,
    "_kg_hide-output": true,
    "execution": {
     "iopub.execute_input": "2023-09-07T08:59:16.291288Z",
     "iopub.status.busy": "2023-09-07T08:59:16.290900Z",
     "iopub.status.idle": "2023-09-07T08:59:16.757421Z",
     "shell.execute_reply": "2023-09-07T08:59:16.756296Z"
    },
    "papermill": {
     "duration": 0.476512,
     "end_time": "2023-09-07T08:59:16.760044",
     "exception": false,
     "start_time": "2023-09-07T08:59:16.283532",
     "status": "completed"
    },
    "tags": []
   },
   "outputs": [
    {
     "name": "stdout",
     "output_type": "stream",
     "text": [
      "Setup complete.\n"
     ]
    }
   ],
   "source": [
    "# SETUP. You don't need to worry for now about what this code does or how it works.\n",
    "from learntools.core import binder; binder.bind(globals())\n",
    "from learntools.python.ex2 import *\n",
    "print('Setup complete.')"
   ]
  },
  {
   "cell_type": "markdown",
   "id": "bf5bc4cb",
   "metadata": {
    "papermill": {
     "duration": 0.006699,
     "end_time": "2023-09-07T08:59:16.773191",
     "exception": false,
     "start_time": "2023-09-07T08:59:16.766492",
     "status": "completed"
    },
    "tags": []
   },
   "source": [
    "# 1.\n",
    "\n",
    "Complete the body of the following function according to its docstring.\n",
    "\n",
    "HINT: Python has a built-in function `round`."
   ]
  },
  {
   "cell_type": "code",
   "execution_count": 2,
   "id": "a15bcda3",
   "metadata": {
    "execution": {
     "iopub.execute_input": "2023-09-07T08:59:16.789998Z",
     "iopub.status.busy": "2023-09-07T08:59:16.789446Z",
     "iopub.status.idle": "2023-09-07T08:59:16.803980Z",
     "shell.execute_reply": "2023-09-07T08:59:16.802534Z"
    },
    "papermill": {
     "duration": 0.025444,
     "end_time": "2023-09-07T08:59:16.807105",
     "exception": false,
     "start_time": "2023-09-07T08:59:16.781661",
     "status": "completed"
    },
    "tags": []
   },
   "outputs": [
    {
     "data": {
      "application/javascript": [
       "parent.postMessage({\"jupyterEvent\": \"custom.exercise_interaction\", \"data\": {\"outcomeType\": 1, \"valueTowardsCompletion\": 0.16666666666666666, \"interactionType\": 1, \"questionType\": 2, \"questionId\": \"1_RoundFunctionProblem\", \"learnToolsVersion\": \"0.3.4\", \"failureMessage\": \"\", \"exceptionClass\": \"\", \"trace\": \"\"}}, \"*\")"
      ],
      "text/plain": [
       "<IPython.core.display.Javascript object>"
      ]
     },
     "metadata": {},
     "output_type": "display_data"
    },
    {
     "data": {
      "text/markdown": [
       "<span style=\"color:#33cc33\">Correct</span>"
      ],
      "text/plain": [
       "Correct"
      ]
     },
     "metadata": {},
     "output_type": "display_data"
    }
   ],
   "source": [
    "def round_to_two_places(num):\n",
    "    \"\"\"Return the given number rounded to two decimal places. \n",
    "    \n",
    "    >>> round_to_two_places(3.14159)\n",
    "    3.14\n",
    "    \"\"\"\n",
    "    # Replace this body with your own code.\n",
    "    # (\"pass\" is a keyword that does literally nothing. We used it as a placeholder\n",
    "    # because after we begin a code block, Python requires at least one line of code)\n",
    "    # pass\n",
    "    return round(num,2)\n",
    "\n",
    "# Check your answer\n",
    "q1.check()"
   ]
  },
  {
   "cell_type": "code",
   "execution_count": 3,
   "id": "ccf46a8e",
   "metadata": {
    "execution": {
     "iopub.execute_input": "2023-09-07T08:59:16.822316Z",
     "iopub.status.busy": "2023-09-07T08:59:16.821954Z",
     "iopub.status.idle": "2023-09-07T08:59:16.827174Z",
     "shell.execute_reply": "2023-09-07T08:59:16.825886Z"
    },
    "papermill": {
     "duration": 0.015213,
     "end_time": "2023-09-07T08:59:16.829413",
     "exception": false,
     "start_time": "2023-09-07T08:59:16.814200",
     "status": "completed"
    },
    "tags": []
   },
   "outputs": [],
   "source": [
    "# Uncomment the following for a hint\n",
    "#q1.hint()\n",
    "# Or uncomment the following to peek at the solution\n",
    "#q1.solution()"
   ]
  },
  {
   "cell_type": "markdown",
   "id": "ae838607",
   "metadata": {
    "papermill": {
     "duration": 0.006302,
     "end_time": "2023-09-07T08:59:16.842601",
     "exception": false,
     "start_time": "2023-09-07T08:59:16.836299",
     "status": "completed"
    },
    "tags": []
   },
   "source": [
    "# 2.\n",
    "The help for `round` says that `ndigits` (the second argument) may be negative.\n",
    "What do you think will happen when it is? Try some examples in the following cell."
   ]
  },
  {
   "cell_type": "code",
   "execution_count": 4,
   "id": "388b9e53",
   "metadata": {
    "execution": {
     "iopub.execute_input": "2023-09-07T08:59:16.856941Z",
     "iopub.status.busy": "2023-09-07T08:59:16.856542Z",
     "iopub.status.idle": "2023-09-07T08:59:16.863911Z",
     "shell.execute_reply": "2023-09-07T08:59:16.862522Z"
    },
    "papermill": {
     "duration": 0.017253,
     "end_time": "2023-09-07T08:59:16.866188",
     "exception": false,
     "start_time": "2023-09-07T08:59:16.848935",
     "status": "completed"
    },
    "tags": []
   },
   "outputs": [
    {
     "data": {
      "text/plain": [
       "3120.0"
      ]
     },
     "execution_count": 4,
     "metadata": {},
     "output_type": "execute_result"
    }
   ],
   "source": [
    "# Put your test code here\n",
    "round(3123.22,-1)"
   ]
  },
  {
   "cell_type": "markdown",
   "id": "19b92063",
   "metadata": {
    "papermill": {
     "duration": 0.006245,
     "end_time": "2023-09-07T08:59:16.879243",
     "exception": false,
     "start_time": "2023-09-07T08:59:16.872998",
     "status": "completed"
    },
    "tags": []
   },
   "source": [
    "Can you think of a case where this would be useful?  Once you're ready, run the code cell below to see the answer and to receive credit for completing the problem."
   ]
  },
  {
   "cell_type": "code",
   "execution_count": 5,
   "id": "6826085b",
   "metadata": {
    "execution": {
     "iopub.execute_input": "2023-09-07T08:59:16.896052Z",
     "iopub.status.busy": "2023-09-07T08:59:16.895656Z",
     "iopub.status.idle": "2023-09-07T08:59:16.904938Z",
     "shell.execute_reply": "2023-09-07T08:59:16.904096Z"
    },
    "papermill": {
     "duration": 0.020492,
     "end_time": "2023-09-07T08:59:16.907067",
     "exception": false,
     "start_time": "2023-09-07T08:59:16.886575",
     "status": "completed"
    },
    "tags": []
   },
   "outputs": [
    {
     "data": {
      "application/javascript": [
       "parent.postMessage({\"jupyterEvent\": \"custom.exercise_interaction\", \"data\": {\"interactionType\": 3, \"questionType\": 4, \"questionId\": \"2_RoundNdigitsProblem\", \"learnToolsVersion\": \"0.3.4\", \"valueTowardsCompletion\": 0.0, \"failureMessage\": \"\", \"exceptionClass\": \"\", \"trace\": \"\", \"outcomeType\": 4}}, \"*\")"
      ],
      "text/plain": [
       "<IPython.core.display.Javascript object>"
      ]
     },
     "metadata": {},
     "output_type": "display_data"
    },
    {
     "data": {
      "text/markdown": [
       "<span style=\"color:#33cc99\">Solution:</span> As you've seen, `ndigits=-1` rounds to the nearest 10, `ndigits=-2` rounds to the nearest 100 and so on. Where might this be useful? Suppose we're dealing with large numbers:\n",
       "\n",
       "> The area of Finland is 338,424 km²  \n",
       "> The area of Greenland is 2,166,086 km²\n",
       "\n",
       "We probably don't care whether it's really 338,424, or 338,425, or 338,177. All those digits of accuracy are just distracting. We can chop them off by calling `round()` with `ndigits=-3`:\n",
       "\n",
       "> The area of Finland is 338,000 km²  \n",
       "> The area of Greenland is 2,166,000 km²\n",
       "\n",
       "(We'll talk about how we would get the commas later when we talk about string formatting :))\n"
      ],
      "text/plain": [
       "Solution: As you've seen, `ndigits=-1` rounds to the nearest 10, `ndigits=-2` rounds to the nearest 100 and so on. Where might this be useful? Suppose we're dealing with large numbers:\n",
       "\n",
       "> The area of Finland is 338,424 km²  \n",
       "> The area of Greenland is 2,166,086 km²\n",
       "\n",
       "We probably don't care whether it's really 338,424, or 338,425, or 338,177. All those digits of accuracy are just distracting. We can chop them off by calling `round()` with `ndigits=-3`:\n",
       "\n",
       "> The area of Finland is 338,000 km²  \n",
       "> The area of Greenland is 2,166,000 km²\n",
       "\n",
       "(We'll talk about how we would get the commas later when we talk about string formatting :))"
      ]
     },
     "metadata": {},
     "output_type": "display_data"
    }
   ],
   "source": [
    "# Check your answer (Run this code cell to receive credit!)\n",
    "q2.solution()"
   ]
  },
  {
   "cell_type": "markdown",
   "id": "8108d447",
   "metadata": {
    "papermill": {
     "duration": 0.006741,
     "end_time": "2023-09-07T08:59:16.921086",
     "exception": false,
     "start_time": "2023-09-07T08:59:16.914345",
     "status": "completed"
    },
    "tags": []
   },
   "source": [
    "# 3.\n",
    "\n",
    "In the previous exercise, the candy-sharing friends Alice, Bob and Carol tried to split candies evenly. For the sake of their friendship, any candies left over would be smashed. For example, if they collectively bring home 91 candies, they'll take 30 each and smash 1.\n",
    "\n",
    "Below is a simple function that will calculate the number of candies to smash for *any* number of total candies.\n",
    "\n",
    "Modify it so that it optionally takes a second argument representing the number of friends the candies are being split between. If no second argument is provided, it should assume 3 friends, as before.\n",
    "\n",
    "Update the docstring to reflect this new behaviour."
   ]
  },
  {
   "cell_type": "code",
   "execution_count": 6,
   "id": "51337c13",
   "metadata": {
    "execution": {
     "iopub.execute_input": "2023-09-07T08:59:16.937716Z",
     "iopub.status.busy": "2023-09-07T08:59:16.937139Z",
     "iopub.status.idle": "2023-09-07T08:59:16.948519Z",
     "shell.execute_reply": "2023-09-07T08:59:16.947341Z"
    },
    "papermill": {
     "duration": 0.022714,
     "end_time": "2023-09-07T08:59:16.950828",
     "exception": false,
     "start_time": "2023-09-07T08:59:16.928114",
     "status": "completed"
    },
    "tags": []
   },
   "outputs": [
    {
     "data": {
      "application/javascript": [
       "parent.postMessage({\"jupyterEvent\": \"custom.exercise_interaction\", \"data\": {\"outcomeType\": 1, \"valueTowardsCompletion\": 0.16666666666666666, \"interactionType\": 1, \"questionType\": 2, \"questionId\": \"3_CandySmashingFunctionProblem\", \"learnToolsVersion\": \"0.3.4\", \"failureMessage\": \"\", \"exceptionClass\": \"\", \"trace\": \"\"}}, \"*\")"
      ],
      "text/plain": [
       "<IPython.core.display.Javascript object>"
      ]
     },
     "metadata": {},
     "output_type": "display_data"
    },
    {
     "data": {
      "text/markdown": [
       "<span style=\"color:#33cc33\">Correct</span>"
      ],
      "text/plain": [
       "Correct"
      ]
     },
     "metadata": {},
     "output_type": "display_data"
    }
   ],
   "source": [
    "def to_smash(total_candies, num_friends = 3):\n",
    "    \"\"\"Return the number of leftover candies that must be smashed after distributing\n",
    "    the given number of candies evenly between 3 friends.\n",
    "    \n",
    "    >>> to_smash(91)\n",
    "    1\n",
    "    \"\"\"\n",
    "    return total_candies % num_friends\n",
    "\n",
    "\n",
    "# Check your answer\n",
    "q3.check()"
   ]
  },
  {
   "cell_type": "code",
   "execution_count": 7,
   "id": "541c5e21",
   "metadata": {
    "execution": {
     "iopub.execute_input": "2023-09-07T08:59:16.967229Z",
     "iopub.status.busy": "2023-09-07T08:59:16.966794Z",
     "iopub.status.idle": "2023-09-07T08:59:16.971644Z",
     "shell.execute_reply": "2023-09-07T08:59:16.970459Z"
    },
    "papermill": {
     "duration": 0.016025,
     "end_time": "2023-09-07T08:59:16.974008",
     "exception": false,
     "start_time": "2023-09-07T08:59:16.957983",
     "status": "completed"
    },
    "tags": []
   },
   "outputs": [],
   "source": [
    "#q3.hint()"
   ]
  },
  {
   "cell_type": "code",
   "execution_count": 8,
   "id": "b8833dd4",
   "metadata": {
    "execution": {
     "iopub.execute_input": "2023-09-07T08:59:16.990321Z",
     "iopub.status.busy": "2023-09-07T08:59:16.989951Z",
     "iopub.status.idle": "2023-09-07T08:59:16.994906Z",
     "shell.execute_reply": "2023-09-07T08:59:16.993752Z"
    },
    "papermill": {
     "duration": 0.016146,
     "end_time": "2023-09-07T08:59:16.997389",
     "exception": false,
     "start_time": "2023-09-07T08:59:16.981243",
     "status": "completed"
    },
    "tags": []
   },
   "outputs": [],
   "source": [
    "#q3.solution()"
   ]
  },
  {
   "cell_type": "markdown",
   "id": "f075b185",
   "metadata": {
    "papermill": {
     "duration": 0.007809,
     "end_time": "2023-09-07T08:59:17.014687",
     "exception": false,
     "start_time": "2023-09-07T08:59:17.006878",
     "status": "completed"
    },
    "tags": []
   },
   "source": [
    "# 4. (Optional)\n",
    "\n",
    "It may not be fun, but reading and understanding error messages will be an important part of your Python career.\n",
    "\n",
    "Each code cell below contains some commented buggy code. For each cell...\n",
    "\n",
    "1. Read the code and predict what you think will happen when it's run.\n",
    "2. Then uncomment the code and run it to see what happens. (**Tip**: In the kernel editor, you can highlight several lines and press `ctrl`+`/` to toggle commenting.)\n",
    "3. Fix the code (so that it accomplishes its intended purpose without throwing an exception)\n",
    "\n",
    "<!-- TODO: should this be autochecked? Delta is probably pretty small. -->"
   ]
  },
  {
   "cell_type": "code",
   "execution_count": 9,
   "id": "6a0dfe08",
   "metadata": {
    "execution": {
     "iopub.execute_input": "2023-09-07T08:59:17.033499Z",
     "iopub.status.busy": "2023-09-07T08:59:17.033140Z",
     "iopub.status.idle": "2023-09-07T08:59:17.041257Z",
     "shell.execute_reply": "2023-09-07T08:59:17.039854Z"
    },
    "papermill": {
     "duration": 0.020584,
     "end_time": "2023-09-07T08:59:17.044171",
     "exception": false,
     "start_time": "2023-09-07T08:59:17.023587",
     "status": "completed"
    },
    "tags": []
   },
   "outputs": [
    {
     "data": {
      "text/plain": [
       "10.0"
      ]
     },
     "execution_count": 9,
     "metadata": {},
     "output_type": "execute_result"
    }
   ],
   "source": [
    "round_to_two_places(9.9999)"
   ]
  },
  {
   "cell_type": "code",
   "execution_count": 10,
   "id": "ffaf576d",
   "metadata": {
    "execution": {
     "iopub.execute_input": "2023-09-07T08:59:17.062325Z",
     "iopub.status.busy": "2023-09-07T08:59:17.061939Z",
     "iopub.status.idle": "2023-09-07T08:59:17.067917Z",
     "shell.execute_reply": "2023-09-07T08:59:17.066720Z"
    },
    "papermill": {
     "duration": 0.0194,
     "end_time": "2023-09-07T08:59:17.071250",
     "exception": false,
     "start_time": "2023-09-07T08:59:17.051850",
     "status": "completed"
    },
    "tags": []
   },
   "outputs": [
    {
     "name": "stdout",
     "output_type": "stream",
     "text": [
      "5\n"
     ]
    }
   ],
   "source": [
    "x = -10\n",
    "y = 5\n",
    "# # Which of the two variables above has the smallest absolute value?\n",
    "smallest_abs = min(abs(x), abs(y))\n",
    "print(smallest_abs)"
   ]
  },
  {
   "cell_type": "code",
   "execution_count": 11,
   "id": "c2cb3b9d",
   "metadata": {
    "execution": {
     "iopub.execute_input": "2023-09-07T08:59:17.088518Z",
     "iopub.status.busy": "2023-09-07T08:59:17.088156Z",
     "iopub.status.idle": "2023-09-07T08:59:17.094079Z",
     "shell.execute_reply": "2023-09-07T08:59:17.092895Z"
    },
    "papermill": {
     "duration": 0.01715,
     "end_time": "2023-09-07T08:59:17.096749",
     "exception": false,
     "start_time": "2023-09-07T08:59:17.079599",
     "status": "completed"
    },
    "tags": []
   },
   "outputs": [
    {
     "name": "stdout",
     "output_type": "stream",
     "text": [
      "5\n"
     ]
    }
   ],
   "source": [
    "def f(x):\n",
    "    y = abs(x)\n",
    "    return y\n",
    "\n",
    "print(f(5))"
   ]
  },
  {
   "cell_type": "markdown",
   "id": "ef30f693",
   "metadata": {
    "papermill": {
     "duration": 0.007142,
     "end_time": "2023-09-07T08:59:17.111485",
     "exception": false,
     "start_time": "2023-09-07T08:59:17.104343",
     "status": "completed"
    },
    "tags": []
   },
   "source": [
    "# Keep Going\n",
    "\n",
    "Nice job with the code. Next up, you'll learn about *conditionals*, which you'll need to **[write interesting programs](https://www.kaggle.com/colinmorris/booleans-and-conditionals)**. "
   ]
  },
  {
   "cell_type": "markdown",
   "id": "6054b1f7",
   "metadata": {
    "papermill": {
     "duration": 0.00752,
     "end_time": "2023-09-07T08:59:17.127576",
     "exception": false,
     "start_time": "2023-09-07T08:59:17.120056",
     "status": "completed"
    },
    "tags": []
   },
   "source": [
    "---\n",
    "\n",
    "\n",
    "\n",
    "\n",
    "*Have questions or comments? Visit the [course discussion forum](https://www.kaggle.com/learn/python/discussion) to chat with other learners.*"
   ]
  }
 ],
 "kernelspec": {
  "display_name": "Python 3",
  "language": "python",
  "name": "python3"
 },
 "language_info": {
  "codemirror_mode": {
   "name": "ipython",
   "version": 3
  },
  "file_extension": ".py",
  "mimetype": "text/x-python",
  "name": "python",
  "nbconvert_exporter": "python",
  "pygments_lexer": "ipython3",
  "version": "3.6.4"
 },
 "metadata": {
  "kernelspec": {
   "display_name": "Python 3",
   "language": "python",
   "name": "python3"
  },
  "language_info": {
   "codemirror_mode": {
    "name": "ipython",
    "version": 3
   },
   "file_extension": ".py",
   "mimetype": "text/x-python",
   "name": "python",
   "nbconvert_exporter": "python",
   "pygments_lexer": "ipython3",
   "version": "3.10.12"
  },
  "learntools_metadata": {
   "lesson_index": 1,
   "type": "exercise"
  },
  "papermill": {
   "default_parameters": {},
   "duration": 4.902584,
   "end_time": "2023-09-07T08:59:17.655076",
   "environment_variables": {},
   "exception": null,
   "input_path": "__notebook__.ipynb",
   "output_path": "__notebook__.ipynb",
   "parameters": {},
   "start_time": "2023-09-07T08:59:12.752492",
   "version": "2.4.0"
  }
 },
 "nbformat": 4,
 "nbformat_minor": 5
}
